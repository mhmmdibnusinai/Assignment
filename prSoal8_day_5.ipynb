{
 "cells": [
  {
   "cell_type": "markdown",
   "metadata": {},
   "source": [
    "Write a sumList() function that has a num parameter. The num parameter contains a list of integer numbers. The function must return all the triplets [nums[i], nums[j], nums[k]] such that i != j, i != k, and j != k, and nums[i] + nums[j] + nums[k] == 0. Notice that the solution set must not contain duplicate triplets. Your solution is correct if the following input & output conditions are similar:\n",
    "\n",
    "# input\n",
    "num = [-1, 0, 1, -2, -1, 2, -4]\n",
    "sumList(num)\n",
    "\n",
    "# output \n",
    "[-2, 0, 2], [-1, -1, 2], [-1, 0, 1]"
   ]
  },
  {
   "cell_type": "code",
   "execution_count": 20,
   "metadata": {},
   "outputs": [
    {
     "name": "stdout",
     "output_type": "stream",
     "text": [
      "[[-1, 0, 1], [-1, -1, 2], [0, 1, -1], [0, -2, 2]]\n"
     ]
    }
   ],
   "source": [
    "nums = [-1, 0, 1, -2, -1, 2, -4]\n",
    "def sumList(nums):\n",
    "\n",
    "  triplets = []\n",
    "  for i in range(len(nums)):\n",
    "    for j in range(i + 1, len(nums)):\n",
    "      for k in range(j + 1, len(nums)):\n",
    "        if nums[i] + nums[j] + nums[k] == 0:\n",
    "          triplets.append([nums[i], nums[j], nums[k]])\n",
    "\n",
    "  return list(triplets)\n",
    "print(sumList(nums))\n",
    "\n"
   ]
  }
 ],
 "metadata": {
  "kernelspec": {
   "display_name": "base",
   "language": "python",
   "name": "python3"
  },
  "language_info": {
   "codemirror_mode": {
    "name": "ipython",
    "version": 3
   },
   "file_extension": ".py",
   "mimetype": "text/x-python",
   "name": "python",
   "nbconvert_exporter": "python",
   "pygments_lexer": "ipython3",
   "version": "3.11.4"
  },
  "orig_nbformat": 4
 },
 "nbformat": 4,
 "nbformat_minor": 2
}

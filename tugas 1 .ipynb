{
 "cells": [
  {
   "cell_type": "markdown",
   "metadata": {},
   "source": [
    "Question 1"
   ]
  },
  {
   "cell_type": "code",
   "execution_count": 2,
   "metadata": {},
   "outputs": [
    {
     "name": "stdout",
     "output_type": "stream",
     "text": [
      "22\n",
      "7654\n"
     ]
    }
   ],
   "source": [
    "#input\n",
    "import math\n",
    "\n",
    "#kalkulasi\n",
    "angka = str(input(\"masukan kode empat digit: \"))\n",
    "\n",
    "\n",
    "jumlah = math.floor(int(angka[0]) + int(angka[1]) + int(angka[2]) + int(angka[3]))\n",
    "\n",
    "reverse = angka[3] + angka[2] + angka[1] + angka[0]\n",
    "\n",
    "#output\n",
    "print(jumlah)\n",
    "print(reverse)\n"
   ]
  },
  {
   "cell_type": "markdown",
   "metadata": {},
   "source": [
    "Question 2"
   ]
  },
  {
   "cell_type": "code",
   "execution_count": 6,
   "metadata": {},
   "outputs": [
    {
     "name": "stdout",
     "output_type": "stream",
     "text": [
      "2.0\n",
      "2.23606797749979\n"
     ]
    }
   ],
   "source": [
    "\n",
    "import math\n",
    "a = str(input(\"Enter coordinate point a: \"))\n",
    "b = str(input(\"Enter coordinate point b: \"))\n",
    "\n",
    "y2 = int(b[3])\n",
    "y1 = int(a[3])\n",
    "x2 = int(b[0])\n",
    "x1 = int(a[0])\n",
    "\n",
    "gradient    = (y2 - y1) / (x2 - x1)\n",
    "result      = math.sqrt((y2 - y1)**2 + (x2 - x1)**2)\n",
    "\n",
    "\n",
    "print(gradient)\n",
    "print(result)\n"
   ]
  },
  {
   "cell_type": "markdown",
   "metadata": {},
   "source": [
    "Question 3"
   ]
  },
  {
   "cell_type": "code",
   "execution_count": 7,
   "metadata": {},
   "outputs": [
    {
     "name": "stdout",
     "output_type": "stream",
     "text": [
      "expected result:  dhiwa purka\n"
     ]
    }
   ],
   "source": [
    "x1, x2 = input(\"enter the sample string: \").split(',')\n",
    "\n",
    "x1, x2 = x1.strip(), x2.strip()\n",
    "text = f' {x2[:3] + x1[3:]} {x1[:3] + x2[3:]}'\n",
    "\n",
    "print(f'expected result: {text}')\n"
   ]
  },
  {
   "cell_type": "markdown",
   "metadata": {},
   "source": [
    "Question 4"
   ]
  },
  {
   "cell_type": "code",
   "execution_count": 8,
   "metadata": {},
   "outputs": [
    {
     "name": "stdout",
     "output_type": "stream",
     "text": [
      "expected result:  j P K d a A\n"
     ]
    }
   ],
   "source": [
    "x1 = input(\"enter the first text: \")\n",
    "x2 = input (\"enter the second text: \")\n",
    "\n",
    "text = f' {x1[0]} {x2[0]} {x1[len(x1)//2]} {x2[len(x2)//2]} {x1[-1]} {x2[-1]}'\n",
    "\n",
    "print (f'expected result: {text}')"
   ]
  },
  {
   "cell_type": "markdown",
   "metadata": {},
   "source": [
    "Question 5"
   ]
  },
  {
   "cell_type": "code",
   "execution_count": 9,
   "metadata": {},
   "outputs": [
    {
     "name": "stdout",
     "output_type": "stream",
     "text": [
      "JC0210DS\n"
     ]
    }
   ],
   "source": [
    "s1 = 'JCDS'\n",
    "s2 = '0210'\n",
    "\n",
    "firsthalfs = s1[0:int(len(s1) / 2)]\n",
    "lasthalfs = s1[int(len(s1) / 2):]\n",
    "print(firsthalfs+s2+lasthalfs)"
   ]
  }
 ],
 "metadata": {
  "kernelspec": {
   "display_name": "base",
   "language": "python",
   "name": "python3"
  },
  "language_info": {
   "codemirror_mode": {
    "name": "ipython",
    "version": 3
   },
   "file_extension": ".py",
   "mimetype": "text/x-python",
   "name": "python",
   "nbconvert_exporter": "python",
   "pygments_lexer": "ipython3",
   "version": "3.11.4"
  },
  "orig_nbformat": 4
 },
 "nbformat": 4,
 "nbformat_minor": 2
}
